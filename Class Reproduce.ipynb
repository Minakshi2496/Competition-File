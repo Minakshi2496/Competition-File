{
 "cells": [
  {
   "cell_type": "code",
   "execution_count": null,
   "metadata": {},
   "outputs": [],
   "source": [
    "\n",
    "import numpy as np                                             # importing numpy\n",
    "import pandas as pd                                            # importing pandas\n",
    "from sklearn.cluster import Birch                              # importing Birch from sklearn.cluster\n",
    "training_data = pd.read_csv(\"data_tr.txt\",sep='\\t',header=None)   # loading training dataset file\n",
    "labels=pd.read_csv(\"gene_names.txt\",header=None)                  # loading gene names file\n",
    "col=labels[0].tolist()\n",
    "training_data.columns=col                                         # setting gene names as column names of gene dataset\n",
    "\n",
    "\n",
    "\n",
    "\n",
    "from sklearn.preprocessing import StandardScaler             # importing Standard Scaler from sklearn.preprocessing  \n",
    "scaler = StandardScaler()\n",
    "trainingdata=scaler.fit_transform(training_data)             # Standardizing dataset with the help of fit_transform() function\n",
    "\n",
    "\n",
    "\n",
    "from sklearn.decomposition import PCA                       # importing PCA from sklearn.decomposition\n",
    "pca = PCA(n_components=47, random_state=5)                  # reducing dimentions to 47 using PCA\n",
    "pc = pca.fit_transform(trainingdata)                       \n",
    "\n",
    "\n",
    "\n",
    "model2= Birch(n_clusters=16, threshold=2)                   # setting parameters of Birch \n",
    "model2.fit(pc)                                              # training Birch model on training data\n",
    "predictions2= model2.predict(pc)         # predicting clusters of training data and storing them into predictions2 variable \n",
    "\n",
    "\n",
    "from sklearn.metrics import silhouette_score               # importing silhouette_score from sklearn.metrics\n",
    "print(silhouette_score(pc,predictions2))                   # printing silhouette_score\n",
    "\n",
    "# this code will produce API score as 0.8371 and silhouette_score as 0.2423."
   ]
  },
  {
   "cell_type": "code",
   "execution_count": null,
   "metadata": {},
   "outputs": [],
   "source": []
  }
 ],
 "metadata": {
  "kernelspec": {
   "display_name": "Python 3",
   "language": "python",
   "name": "python3"
  },
  "language_info": {
   "codemirror_mode": {
    "name": "ipython",
    "version": 3
   },
   "file_extension": ".py",
   "mimetype": "text/x-python",
   "name": "python",
   "nbconvert_exporter": "python",
   "pygments_lexer": "ipython3",
   "version": "3.7.3"
  }
 },
 "nbformat": 4,
 "nbformat_minor": 2
}
